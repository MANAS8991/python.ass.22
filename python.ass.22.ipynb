{
 "cells": [
  {
   "cell_type": "markdown",
   "id": "27bc7d95",
   "metadata": {},
   "source": [
    "# 1. What is the result of the code, and explain?\n",
    "# >>>X='iNeuron'\n",
    "# >>>def func():\n",
    "# print(X)\n",
    "\n",
    "# >>>func()\n"
   ]
  },
  {
   "cell_type": "code",
   "execution_count": null,
   "id": "f0674aa4",
   "metadata": {},
   "outputs": [],
   "source": [
    "he code will output the string \"iNeuron\" when the func() function is called.\n",
    "\n",
    "Explanation:\n",
    "\n",
    "In the code, a variable X is defined and assigned the value \"iNeuron\".\n",
    "Then, a function func() is defined, which prints the value of X.\n",
    "When the func() function is called using func(), it executes the print statement within the function, which accesses the variable X and prints its value, which is \"iNeuron\"."
   ]
  },
  {
   "cell_type": "markdown",
   "id": "2087f87a",
   "metadata": {},
   "source": [
    "# 2. What is the result of the code, and explain?\n",
    "# >>>X='iNeuron'\n",
    "# >>>def func():\n",
    "# X='NI!'\n",
    "\n",
    "# >>>func()\n",
    "# >>>print(X)"
   ]
  },
  {
   "cell_type": "markdown",
   "id": "a285a903",
   "metadata": {},
   "source": [
    "The result of the code will be 'iNeuron'.\n",
    "\n",
    "Explanation:\n",
    "\n",
    "Initially, the variable X is assigned the value 'iNeuron'.\n",
    "Then, a function func() is defined, which creates a new local variable X and assigns it the value 'NI!'.\n",
    "When the func() function is called using func(), it creates a new local variable X within the function's scope, but it does not affect the value of the outer variable X defined outside the function.\n",
    "After the function call, when print(X) is executed, it refers to the outer variable X with the value 'iNeuron', and therefore it prints 'iNeuron'. The assignment inside the function does not impact the value of the outer variable X."
   ]
  },
  {
   "cell_type": "markdown",
   "id": "6d261e43",
   "metadata": {},
   "source": [
    "# 3. What does this code print, and why?\n",
    "# >>>X='iNeuron'\n",
    "# >>>def func():\n",
    "# X='NI'\n",
    "# print(X)\n",
    "\n",
    "# >>>func()\n",
    "# >>>print(X)\n"
   ]
  },
  {
   "cell_type": "code",
   "execution_count": null,
   "id": "7bd32619",
   "metadata": {},
   "outputs": [],
   "source": [
    "The code will print:\n",
    "NI\n",
    "iNeuron\n",
    "\n",
    "Explanation:\n",
    "\n",
    "Initially, the variable X is assigned the value 'iNeuron'.\n",
    "The function func() is defined, which creates a new local variable X and assigns it the value 'NI'. Inside the function, when print(X) is executed, it refers to the local variable X, and therefore it prints 'NI'.\n",
    "When func() is called using func(), it executes the function and prints 'NI'.\n",
    "After the function call, when print(X) is executed outside the function, it refers to the outer variable X with the value 'iNeuron', and therefore it prints 'iNeuron'. The assignment inside the function does not affect the value of the outer variable X."
   ]
  },
  {
   "cell_type": "markdown",
   "id": "5e969efd",
   "metadata": {},
   "source": [
    "# 4. What output does this code produce? Why?\n",
    "# >>>X='iNeuron'\n",
    "# >>>def func():\n",
    "# global X\n",
    "# X='NI'\n",
    "# >>>func()\n",
    "# print(X)"
   ]
  },
  {
   "cell_type": "code",
   "execution_count": null,
   "id": "72db3616",
   "metadata": {},
   "outputs": [],
   "source": [
    "The output of the code will be:\n",
    "NI\n",
    "\n",
    "Explanation:\n",
    "\n",
    "Initially, the variable X is assigned the value 'iNeuron'.\n",
    "The function func() is defined, and inside the function, the global keyword is used to indicate that we want to use the outer variable X instead of creating a new local variable.\n",
    "Inside the function, the value of the global variable X is changed to 'NI'.\n",
    "When func() is called using func(), it modifies the value of the global variable X to 'NI'.\n",
    "After the function call, when print(X) is executed, it prints the updated value of the global variable X, which is 'NI'. The global keyword allows modifications to the global variable within the function scope."
   ]
  },
  {
   "cell_type": "markdown",
   "id": "6a3fb260",
   "metadata": {},
   "source": [
    "# 5. What about this code—what’s the output, and why?\n",
    "# >>>X='iNeuron'\n",
    "# >>>def func():\n",
    "# X='NI'\n",
    "# def nested():\n",
    "# print(X)\n",
    "# nested()\n",
    "# >>>func()\n",
    "# >>>X"
   ]
  },
  {
   "cell_type": "code",
   "execution_count": null,
   "id": "9ad49e5c",
   "metadata": {},
   "outputs": [],
   "source": [
    "The output of the code will be:\n",
    "NI\n",
    "iNeuron\n",
    "\n",
    "Explanation:\n",
    "\n",
    "Initially, the variable X is assigned the value 'iNeuron'.\n",
    "The function func() is defined, and inside the function, a new local variable X is assigned the value 'NI'.\n",
    "Inside the func() function, another function nested() is defined.\n",
    "When nested() is called within func(), it prints the value of the local variable X, which is 'NI'.\n",
    "After defining func(), when func() is called using func(), it executes the nested function nested() and prints 'NI'.\n",
    "Finally, when print(X) is executed outside of any function scope, it prints the value of the global variable X, which is 'iNeuron'."
   ]
  },
  {
   "cell_type": "markdown",
   "id": "5708dc0f",
   "metadata": {},
   "source": [
    "# 6. How about this code: what is its output in Python 3, and explain?\n",
    "# >>>def func():\n",
    "# X='NI'\n",
    "# def nested():\n",
    "# nonlocal X\n",
    "# X='Spam'\n",
    "# nested()\n",
    "# print(X)\n",
    "# >>>func()"
   ]
  },
  {
   "cell_type": "code",
   "execution_count": null,
   "id": "6df6cec5",
   "metadata": {},
   "outputs": [],
   "source": [
    "In Python 3, the code you provided will raise a SyntaxError. The nonlocal keyword can only be used within nested functions to indicate that a variable is a nonlocal variable, i.e., it is defined in the enclosing scope but not in the global scope.\n",
    "\n",
    "The error occurs because the variable X is not defined in an enclosing scope of the nested() function. Therefore, the nonlocal keyword cannot be used with X.\n",
    "\n",
    "If we modify the code to make X defined in an enclosing scope, the code will execute correctly. Here's an example:\n",
    "def func():\n",
    "    X = 'NI'\n",
    "    def nested():\n",
    "        nonlocal X\n",
    "        X = 'Spam'\n",
    "    nested()\n",
    "    print(X)\n",
    "\n",
    "func()\n",
    "\n",
    "Output: Spam\n",
    "    \n",
    "Explanation:\n",
    "\n",
    "The func() function defines a local variable X and assigns it the value 'NI'.\n",
    "Inside func(), the nested() function is defined.\n",
    "The nonlocal keyword is used within nested() to indicate that X refers to the variable in the enclosing scope of nested(), which is the X variable in func().\n",
    "When nested() is called within func(), it assigns the value 'Spam' to X.\n",
    "Finally, when print(X) is executed inside func(), it prints the value of X, which is 'Spam'."
   ]
  }
 ],
 "metadata": {
  "kernelspec": {
   "display_name": "Python 3 (ipykernel)",
   "language": "python",
   "name": "python3"
  },
  "language_info": {
   "codemirror_mode": {
    "name": "ipython",
    "version": 3
   },
   "file_extension": ".py",
   "mimetype": "text/x-python",
   "name": "python",
   "nbconvert_exporter": "python",
   "pygments_lexer": "ipython3",
   "version": "3.9.12"
  }
 },
 "nbformat": 4,
 "nbformat_minor": 5
}
